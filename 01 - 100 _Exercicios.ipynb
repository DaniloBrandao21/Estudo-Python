{
 "cells": [
  {
   "cell_type": "code",
   "execution_count": 2,
   "id": "dcc614c4",
   "metadata": {},
   "outputs": [
    {
     "name": "stdout",
     "output_type": "stream",
     "text": [
      "Seu nome é:  Danilo\n",
      "Seu celular é:  996392913\n",
      "Sua cidade é:  Pinhais\n"
     ]
    }
   ],
   "source": [
    "nome = \"Danilo\"\n",
    "celular = 996392913\n",
    "cidade = \"Pinhais\"\n",
    "print(\"Seu nome é: \", nome)\n",
    "print(\"Seu celular é: \", celular)\n",
    "print(\"Sua cidade é: \", cidade)"
   ]
  },
  {
   "cell_type": "code",
   "execution_count": null,
   "id": "6c36cccf",
   "metadata": {},
   "outputs": [],
   "source": []
  }
 ],
 "metadata": {
  "kernelspec": {
   "display_name": "Python 3 (ipykernel)",
   "language": "python",
   "name": "python3"
  },
  "language_info": {
   "codemirror_mode": {
    "name": "ipython",
    "version": 3
   },
   "file_extension": ".py",
   "mimetype": "text/x-python",
   "name": "python",
   "nbconvert_exporter": "python",
   "pygments_lexer": "ipython3",
   "version": "3.9.7"
  }
 },
 "nbformat": 4,
 "nbformat_minor": 5
}
