{
 "cells": [
  {
   "cell_type": "raw",
   "id": "6aa3064e",
   "metadata": {},
   "source": [
    "Calculadora de médias"
   ]
  },
  {
   "cell_type": "code",
   "execution_count": 20,
   "id": "1393a93a",
   "metadata": {},
   "outputs": [
    {
     "name": "stdout",
     "output_type": "stream",
     "text": [
      "Digite a sua primeira nota\n",
      "4\n",
      "Digite a sua segunda nota\n",
      "6\n",
      "Digite a sua terceira nota\n",
      "9\n",
      "Digite a sua quarta nota\n",
      "10\n"
     ]
    }
   ],
   "source": [
    "soma = 0 \n",
    "i = 0\n",
    "for number \n",
    "\n",
    "M = (N1+N2+N3+N4)/4"
   ]
  },
  {
   "cell_type": "code",
   "execution_count": 21,
   "id": "4a96fd5c",
   "metadata": {},
   "outputs": [
    {
     "name": "stdout",
     "output_type": "stream",
     "text": [
      "A sua média é 7.25\n"
     ]
    }
   ],
   "source": [
    "print ('A sua média é {}'.format(M))"
   ]
  },
  {
   "cell_type": "code",
   "execution_count": 22,
   "id": "97ffc767",
   "metadata": {},
   "outputs": [
    {
     "name": "stdout",
     "output_type": "stream",
     "text": [
      "Aprovado!!!\n"
     ]
    }
   ],
   "source": [
    "if ( M<7 ):\n",
    "    print ('Reprovado!!!')\n",
    "else:\n",
    "    print('Aprovado!!!')\n"
   ]
  },
  {
   "cell_type": "code",
   "execution_count": null,
   "id": "cefc2b02",
   "metadata": {},
   "outputs": [],
   "source": []
  }
 ],
 "metadata": {
  "kernelspec": {
   "display_name": "Python 3 (ipykernel)",
   "language": "python",
   "name": "python3"
  },
  "language_info": {
   "codemirror_mode": {
    "name": "ipython",
    "version": 3
   },
   "file_extension": ".py",
   "mimetype": "text/x-python",
   "name": "python",
   "nbconvert_exporter": "python",
   "pygments_lexer": "ipython3",
   "version": "3.9.7"
  }
 },
 "nbformat": 4,
 "nbformat_minor": 5
}
