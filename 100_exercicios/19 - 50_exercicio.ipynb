{
 "cells": [
  {
   "cell_type": "code",
   "execution_count": 4,
   "id": "7646a5af",
   "metadata": {},
   "outputs": [
    {
     "name": "stdout",
     "output_type": "stream",
     "text": [
      "Digite o valor do seu salário atual: \n",
      "1000\n",
      "Digite o valor percentual do reajuste: \n",
      "10\n",
      "1100.0\n"
     ]
    }
   ],
   "source": [
    "print(\"Digite o valor do seu salário atual: \")\n",
    "Salario = float(input())\n",
    "print(\"Digite o valor percentual do reajuste: \")\n",
    "reajuste = float(input())\n",
    "\n",
    "NovoSalario = (Salario * (reajuste/100)) + Salario\n",
    "    \n",
    "\n",
    "\n",
    "print(NovoSalario)"
   ]
  },
  {
   "cell_type": "code",
   "execution_count": 13,
   "id": "751b46b3",
   "metadata": {},
   "outputs": [
    {
     "name": "stdout",
     "output_type": "stream",
     "text": [
      "Digite o valor a ser convertido em dólar: \n",
      "10\n",
      "O valor convertido em reais é de: 66.10 reais\n"
     ]
    }
   ],
   "source": [
    "print(\"Digite o valor a ser convertido em dólar: \")\n",
    "dolar = float(input())\n",
    "\n",
    "print(\"O valor convertido em reais é de: {:.2f} reais\".format(6.61 * dolar))"
   ]
  },
  {
   "cell_type": "code",
   "execution_count": 16,
   "id": "e049bc4f",
   "metadata": {},
   "outputs": [
    {
     "name": "stdout",
     "output_type": "stream",
     "text": [
      "BEM VINDO À CALCULADORA DE PREÇOS BRANDÃO \n",
      "\n",
      "O percentual do distribuidor é de 28% e 45% de impostos \n",
      "\n",
      "Digite o valor de fábrica do carro: \n",
      "10000\n",
      "O valor total de vendas do carro é de: 17300.00 reais\n"
     ]
    }
   ],
   "source": [
    "print(\"BEM VINDO À CALCULADORA DE PREÇOS BRANDÃO \\n\")\n",
    "print(\"O percentual do distribuidor é de 28% e 45% de impostos \\n\")\n",
    "print(\"Digite o valor de fábrica do carro: \")\n",
    "ValorFabrica = float(input())\n",
    "\n",
    "ValorTotal = (ValorFabrica * 0.28) + (ValorFabrica * 0.45) + ValorFabrica \n",
    "\n",
    "print(\"O valor total de vendas do carro é de: {:.2f} reais\".format(ValorTotal))\n"
   ]
  },
  {
   "cell_type": "code",
   "execution_count": 17,
   "id": "b338ce05",
   "metadata": {},
   "outputs": [
    {
     "name": "stdout",
     "output_type": "stream",
     "text": [
      "BEM VINDO À CALCULADORA DE SALARIOS!!!\n",
      "Quantos carros você vendeu esse mês ? \n",
      "4\n",
      "Qual o valor total das suas vendas esse mês ? \n",
      "40000\n",
      "Qual o seu salário fixo por mês ? \n",
      "1500\n",
      "Quanto recebe por carro vendido ? \n",
      "200\n",
      "O seu salario final será de 4300.00 reais\n"
     ]
    }
   ],
   "source": [
    "print(\"BEM VINDO À CALCULADORA DE SALARIOS!!!\")\n",
    "\n",
    "print(\"Quantos carros você vendeu esse mês ? \")\n",
    "carros = int(input())\n",
    "print(\"Qual o valor total das suas vendas esse mês ? \")\n",
    "vendas = float(input())\n",
    "print(\"Qual o seu salário fixo por mês ? \")\n",
    "SalarioFixo = float(input())\n",
    "print(\"Quanto recebe por carro vendido ? \")\n",
    "Valorcarros = int(input())\n",
    "\n",
    "salario =(carros * Valorcarros) + (vendas*0.05) + SalarioFixo\n",
    "\n",
    "print(\"O seu salario final será de {:.2f} reais\".format(salario))"
   ]
  },
  {
   "cell_type": "code",
   "execution_count": 21,
   "id": "882fd061",
   "metadata": {},
   "outputs": [
    {
     "name": "stdout",
     "output_type": "stream",
     "text": [
      "Digite o valor a ser convertido de Fahrenheit para Celsius \n",
      "212\n",
      "100.00º Celsius\n"
     ]
    }
   ],
   "source": [
    "print(\"Digite o valor a ser convertido de Fahrenheit para Celsius \")\n",
    "far = float(input())\n",
    "cel = ((far-32)*5)/9\n",
    "print(\"{:.2f}º Celsius\".format(cel))"
   ]
  },
  {
   "cell_type": "code",
   "execution_count": 24,
   "id": "e3e9174c",
   "metadata": {},
   "outputs": [
    {
     "name": "stdout",
     "output_type": "stream",
     "text": [
      "Digite a primeira nota: \n",
      "10\n",
      "Digite a segunda nota: \n",
      "9\n",
      "Digite a terceira nota: \n",
      "8\n",
      "A média ponderada é 8.70\n"
     ]
    }
   ],
   "source": [
    "print(\"Digite a primeira nota: \")\n",
    "n1 = float(input())\n",
    "print(\"Digite a segunda nota: \")\n",
    "n2 = float(input())\n",
    "print(\"Digite a terceira nota: \")\n",
    "n3 = float(input())\n",
    "\n",
    "media = ((n1 * 2 + n2 * 3 + n3 * 5))/10\n",
    "\n",
    "print(\"A média ponderada é {:.2f}\".format(media))"
   ]
  },
  {
   "cell_type": "code",
   "execution_count": 30,
   "id": "fabc644e",
   "metadata": {},
   "outputs": [
    {
     "name": "stdout",
     "output_type": "stream",
     "text": [
      "Bem-vindo ao posto Brandão \n",
      "\n",
      "Digite o preço da gasolina: \n",
      "5\n",
      "Digite o valor pago: \n",
      "47\n",
      "É possível colocar 9 litros de gasolina e sobra 2.00 reais \n"
     ]
    }
   ],
   "source": [
    "print(\"Bem-vindo ao posto Brandão \\n\")\n",
    "print(\"Digite o preço da gasolina: \")\n",
    "gasolina = float(input())\n",
    "\n",
    "print(\"Digite o valor pago: \")\n",
    "valor = float(input())\n",
    "\n",
    "total = valor / gasolina\n",
    "resto = valor % gasolina\n",
    "\n",
    "print(\"É possível colocar {:.0f} litros de gasolina e sobra {:.2f} reais \".format(total,resto))"
   ]
  },
  {
   "cell_type": "code",
   "execution_count": 32,
   "id": "ce7a8133",
   "metadata": {},
   "outputs": [
    {
     "name": "stdout",
     "output_type": "stream",
     "text": [
      "Digite o mes atual: \n",
      "12\n",
      "Digite o dia do mes atual: \n",
      "13\n",
      "Se passaram 343 dias\n"
     ]
    }
   ],
   "source": [
    "print(\"Digite o mes atual: \")\n",
    "mes = int(input())\n",
    "print(\"Digite o dia do mes atual: \")\n",
    "dia = int(input())\n",
    "\n",
    "\n",
    "print(\"Se passaram {} dias\".format(mes*30 + dia - 30))"
   ]
  },
  {
   "cell_type": "code",
   "execution_count": 33,
   "id": "37a7e890",
   "metadata": {},
   "outputs": [
    {
     "name": "stdout",
     "output_type": "stream",
     "text": [
      "Quantas camisetas pequenas foram vendidas ? \n",
      "4\n",
      "Quantas camisetas médias foram vendidas ? \n",
      "4\n",
      "Quantas camisetas grandes foram vendidas ? \n",
      "2\n",
      "O total arrecadado é de: 118 reais\n"
     ]
    }
   ],
   "source": [
    "print(\"Quantas camisetas pequenas foram vendidas ? \")\n",
    "CP = int(input())\n",
    "print(\"Quantas camisetas médias foram vendidas ? \")\n",
    "CM = int(input())\n",
    "print(\"Quantas camisetas grandes foram vendidas ? \")\n",
    "CG = int(input())\n",
    "\n",
    "arrecadado = CP * 10 + CM * 12 + 15 * CG\n",
    "\n",
    "print(\"O total arrecadado é de: {} reais\".format(arrecadado))"
   ]
  },
  {
   "cell_type": "code",
   "execution_count": 45,
   "id": "7dbd4723",
   "metadata": {},
   "outputs": [
    {
     "name": "stdout",
     "output_type": "stream",
     "text": [
      "101.53\n",
      "2.530000000000001\n",
      "Carlos: 33.00 \n",
      " André: 33.00 \n",
      " Felipe :35.53 \n",
      "\n"
     ]
    }
   ],
   "source": [
    "(\"Digite o valor da conta: \")\n",
    "valor = float(input())\n",
    "\n",
    "div = valor / 3\n",
    "fel = valor % 3\n",
    "print(fel)\n",
    "print(\"Carlos: {:.2f} \\n André: {:.2f} \\n Felipe :{:.2f} \\n\".format(round(div-0.5),round(div-0.5),round(div-0.5)+fel))"
   ]
  },
  {
   "cell_type": "code",
   "execution_count": 48,
   "id": "0ce8da72",
   "metadata": {},
   "outputs": [
    {
     "name": "stdout",
     "output_type": "stream",
     "text": [
      "BEM-VINDO À LANCHONETE GOSTOSURA \n",
      "\n",
      "Digite quantos sanduiches deseja fazer: \n",
      "200\n",
      "Serão necessários: \n",
      "20.00 kg de queijo\n",
      "10.00 kg de presento\n",
      "20.00 kg de hamburguer \n"
     ]
    }
   ],
   "source": [
    "print(\"BEM-VINDO À LANCHONETE GOSTOSURA \\n\")\n",
    "print(\"Digite quantos sanduiches deseja fazer: \")\n",
    "num = int(input())\n",
    "\n",
    "queijo = (2 * num * 50)/1000\n",
    "presunto = (num * 50)/1000\n",
    "ham = (num * 100)/1000\n",
    "\n",
    "print(\"Serão necessários: \\n{:.2f} kg de queijo\\n{:.2f} kg de presento\\n{:.2f} kg de hamburguer \".format(queijo, presunto, ham))\n",
    "\n"
   ]
  },
  {
   "cell_type": "code",
   "execution_count": 52,
   "id": "00959491",
   "metadata": {},
   "outputs": [
    {
     "name": "stdout",
     "output_type": "stream",
     "text": [
      "Digite a temperatura em graus Celsius: \n",
      "100\n",
      "A temperatura em fahrenheit é de: 212.0 fahrenheit\n"
     ]
    }
   ],
   "source": [
    "print(\"Digite a temperatura em graus Celsius: \")\n",
    "cel = float(input())\n",
    "\n",
    "print(\"A temperatura em fahrenheit é de: {} fahrenheit\".format(((cel*9)/5)+32))"
   ]
  },
  {
   "cell_type": "code",
   "execution_count": 53,
   "id": "e7735d7a",
   "metadata": {},
   "outputs": [
    {
     "name": "stdout",
     "output_type": "stream",
     "text": [
      "Bem vindo a granja das galinhas loucas \n",
      "\n",
      "Digite o numero de frangos na granja: \n",
      "100\n",
      "O valor total para catalogar todas os frangos da granja é: 1100.00 reias\n"
     ]
    }
   ],
   "source": [
    "print(\"Bem vindo a granja das galinhas loucas \\n\")\n",
    "print(\"Digite o numero de frangos na granja: \")\n",
    "num = int(input())\n",
    "\n",
    "valor = (num * 4) + (num * 3.5 * 2)\n",
    "print(\"O valor total para catalogar todas os frangos da granja é: {:.2f} reias\".format(valor))"
   ]
  },
  {
   "cell_type": "code",
   "execution_count": 54,
   "id": "b9f576e9",
   "metadata": {},
   "outputs": [
    {
     "name": "stdout",
     "output_type": "stream",
     "text": [
      "Digite quantas latas de 350ml comprou: \n",
      "10\n",
      "Digite quantas garrafas de 600ml comprou: \n",
      "20\n",
      "Digite quantas garrafas de 2L comprou: \n",
      "6\n",
      "Você comprou 27.5 litros de refrigerante\n"
     ]
    }
   ],
   "source": [
    "print(\"Digite quantas latas de 350ml comprou: \")\n",
    "latas350 = int(input())\n",
    "\n",
    "print(\"Digite quantas garrafas de 600ml comprou: \")\n",
    "garrafas600 = int(input())\n",
    "\n",
    "print(\"Digite quantas garrafas de 2L comprou: \")\n",
    "garrafas2L = int(input())\n",
    "\n",
    "calculo = (latas350 * 0.35 + garrafas600 * 0.6 + garrafas2L * 2)\n",
    "\n",
    "print(\"Você comprou {} litros de refrigerante\".format(calculo))"
   ]
  },
  {
   "cell_type": "code",
   "execution_count": 55,
   "id": "f3fc200e",
   "metadata": {},
   "outputs": [
    {
     "name": "stdout",
     "output_type": "stream",
     "text": [
      "Digite a quantidade de moedas de 5 centavos: \n",
      "5\n",
      "Digite a quantidade de moedas de 10 centavos: \n",
      "5\n",
      "Digite a quantidade de moedas de 25 centavos: \n",
      "5\n",
      "Digite a quantidade de moedas de 50 centavos: \n",
      "4\n",
      "Digite a quantidade de moedas de 1 real: \n",
      "4\n",
      "Foram economizados 8.0 reais\n"
     ]
    }
   ],
   "source": [
    "print(\"Digite a quantidade de moedas de 5 centavos: \")\n",
    "moedas5 = int(input())\n",
    "\n",
    "print(\"Digite a quantidade de moedas de 10 centavos: \")\n",
    "moedas10 = int(input())\n",
    "\n",
    "print(\"Digite a quantidade de moedas de 25 centavos: \")\n",
    "moedas25 = int(input())\n",
    "\n",
    "print(\"Digite a quantidade de moedas de 50 centavos: \")\n",
    "moedas50 = int(input())\n",
    "\n",
    "print(\"Digite a quantidade de moedas de 1 real: \")\n",
    "real = int(input())\n",
    "\n",
    "calculo = 0.05 * moedas5 + 0.10 * moedas10 + 0.25 * moedas25 + 0.5 * moedas50 + 1 * real\n",
    "\n",
    "print(\"Foram economizados {} reais\".format(calculo) )"
   ]
  },
  {
   "cell_type": "code",
   "execution_count": 57,
   "id": "e43b6b5c",
   "metadata": {},
   "outputs": [
    {
     "name": "stdout",
     "output_type": "stream",
     "text": [
      "Digite quantos Litros de refresco deseja fazer: \n",
      "40\n",
      "Para produzir 40.0 litros de refresco, serão necessários 8.0 litros de suco e 32.0 litros de agua\n"
     ]
    }
   ],
   "source": [
    "print(\"Digite quantos Litros de refresco deseja fazer: \")\n",
    "num = float(input())\n",
    "\n",
    "suco = (num / 10) * 2\n",
    "agua = (num / 10) * 8\n",
    "\n",
    "print(\"Para produzir {} litros de refresco, serão necessários {} litros de suco e {} litros de agua\".format(num,suco,agua))"
   ]
  },
  {
   "cell_type": "code",
   "execution_count": 60,
   "id": "bd8c20d7",
   "metadata": {},
   "outputs": [
    {
     "name": "stdout",
     "output_type": "stream",
     "text": [
      "Digite o ano do seu nascimento \n",
      "2000\n",
      "Digite o ano atual \n",
      "2021\n",
      "Você tem 21 anos de idade\n",
      "Você tem 252 meses de idade\n",
      "Você tem 7665 dias de idade\n",
      "Você tem 1092 semanas de idade\n"
     ]
    }
   ],
   "source": [
    "print(\"Digite o ano do seu nascimento \")\n",
    "Ano = int(input())\n",
    "print(\"Digite o ano atual \")\n",
    "AnoAtual = int(input())\n",
    "\n",
    "IdadeAnos = AnoAtual - Ano\n",
    "IdadeMeses = IdadeAnos * 12\n",
    "IdadeDias = IdadeAnos * 365\n",
    "IdadeSemanas = IdadeAnos * 52\n",
    "\n",
    "print(\"Você tem {} anos de idade\". format(IdadeAnos))\n",
    "print(\"Você tem {} meses de idade\". format(IdadeMeses))\n",
    "print(\"Você tem {} dias de idade\". format(IdadeDias))\n",
    "print(\"Você tem {} semanas de idade\". format(IdadeSemanas))\n"
   ]
  },
  {
   "cell_type": "code",
   "execution_count": 64,
   "id": "5d07758a",
   "metadata": {},
   "outputs": [
    {
     "name": "stdout",
     "output_type": "stream",
     "text": [
      "Digite um numero\n",
      "15\n",
      "É MAIOR QUE 10\n"
     ]
    }
   ],
   "source": [
    "print(\"Digite um numero\")\n",
    "num = float(input())\n",
    "\n",
    "if(num > 10):\n",
    "    print(\"É MAIOR QUE 10\")\n",
    "else:\n",
    "    print(\"NÃO É MAIOR QUE 10\")"
   ]
  },
  {
   "cell_type": "code",
   "execution_count": 65,
   "id": "a9e7f3e3",
   "metadata": {},
   "outputs": [
    {
     "name": "stdout",
     "output_type": "stream",
     "text": [
      "Digite um numero\n",
      "0\n",
      "O numero é positivo\n"
     ]
    }
   ],
   "source": [
    "print(\"Digite um numero\")\n",
    "num = float(input())\n",
    "\n",
    "if(num >= 0):\n",
    "    print(\"O numero é positivo\")\n",
    "else:\n",
    "    print(\"O numero é negativo\")"
   ]
  },
  {
   "cell_type": "code",
   "execution_count": 70,
   "id": "a7c6ec96",
   "metadata": {},
   "outputs": [
    {
     "name": "stdout",
     "output_type": "stream",
     "text": [
      "Digite um numero de maçãs compradas: \n",
      "8\n",
      "O valor da compra é 10.40 reais\n"
     ]
    }
   ],
   "source": [
    "print(\"Digite um numero de maçãs compradas: \")\n",
    "num = float(input())\n",
    "\n",
    "if(num > 10):\n",
    "    valor = num * 1\n",
    "    print(\"O valor da compra é {:.2f} reais\".format(valor))\n",
    "else:\n",
    "    valor = num * 1.3\n",
    "    print(\"O valor da compra é {:.2f} reais\".format(valor))"
   ]
  },
  {
   "cell_type": "code",
   "execution_count": 72,
   "id": "c6f7fb0b",
   "metadata": {},
   "outputs": [
    {
     "name": "stdout",
     "output_type": "stream",
     "text": [
      "Digite a primeira nota: \n",
      "8\n",
      "Digite a segunda nota: \n",
      "8\n",
      "Aluno aprovado!!!\n"
     ]
    }
   ],
   "source": [
    "print(\"Digite a primeira nota: \")\n",
    "num1 = float(input())\n",
    "print(\"Digite a segunda nota: \")\n",
    "num2 = float(input())\n",
    "\n",
    "media = (num1 + num2)/2\n",
    "if(media > 6):\n",
    "    print(\"Aluno aprovado!!!\")\n",
    "else:\n",
    "     print(\"Aluno reprovado!!!\")"
   ]
  },
  {
   "cell_type": "code",
   "execution_count": 75,
   "id": "3555d78d",
   "metadata": {},
   "outputs": [
    {
     "name": "stdout",
     "output_type": "stream",
     "text": [
      "Digite o ano do seu nascimento \n",
      "2000\n",
      "Digite o ano Atual \n",
      "2004\n",
      "Não pode votar!!!\n"
     ]
    }
   ],
   "source": [
    "print(\"Digite o ano do seu nascimento \")\n",
    "AnoNasc = int(input())\n",
    "\n",
    "print(\"Digite o ano Atual \")\n",
    "AnoAtual = int(input())\n",
    "\n",
    "calculo = AnoAtual - AnoNasc\n",
    "if(calculo >= 18):\n",
    "    print(\"Pode votar!!!\")\n",
    "else:\n",
    "    print(\"Não pode votar!!!\")"
   ]
  },
  {
   "cell_type": "code",
   "execution_count": 77,
   "id": "3efefb3d",
   "metadata": {},
   "outputs": [
    {
     "name": "stdout",
     "output_type": "stream",
     "text": [
      "Digite o primeiro valor \n",
      "15\n",
      "Digite o segundo valor \n",
      "10\n",
      "O primeiro valor é maior\n"
     ]
    }
   ],
   "source": [
    "print(\"Digite o primeiro valor \")\n",
    "Valor1 = int(input())\n",
    "\n",
    "print(\"Digite o segundo valor \")\n",
    "Valor2 = int(input())\n",
    "\n",
    "if(Valor1 > Valor2):\n",
    "    print(\"O primeiro valor é maior\")\n",
    "else:\n",
    "    print(\"O segundo valor é maior\")"
   ]
  },
  {
   "cell_type": "code",
   "execution_count": 81,
   "id": "3fc4a8a1",
   "metadata": {},
   "outputs": [
    {
     "name": "stdout",
     "output_type": "stream",
     "text": [
      "Digite o primeiro valor \n",
      "15\n",
      "Digite o segundo valor \n",
      "46\n",
      "15 ----- 46 \n"
     ]
    }
   ],
   "source": [
    "print(\"Digite o primeiro valor \")\n",
    "Valor1 = int(input())\n",
    "\n",
    "print(\"Digite o segundo valor \")\n",
    "Valor2 = int(input())\n",
    "\n",
    "if(Valor1 > Valor2):\n",
    "    print(\"{} ----- {} \".format(Valor2,Valor1))\n",
    "else:\n",
    "    print(\"{} ----- {} \".format(Valor1,Valor2))"
   ]
  },
  {
   "cell_type": "code",
   "execution_count": 85,
   "id": "e2caae23",
   "metadata": {},
   "outputs": [
    {
     "name": "stdout",
     "output_type": "stream",
     "text": [
      "Digite que horas o jogo começou: \n",
      "18\n",
      "Digite que horas o jogo terminou: \n",
      "20\n",
      "O jogo durou 2 horas \n"
     ]
    }
   ],
   "source": [
    "print(\"Digite que horas o jogo começou: \")\n",
    "HoraInicio = int(input())\n",
    "\n",
    "print(\"Digite que horas o jogo terminou: \")\n",
    "HoraTermino = int(input())\n",
    "\n",
    "HorasJogo = HoraInicio - HoraTermino\n",
    "\n",
    "if(HorasJogo < 0):\n",
    "    print(\"O jogo durou {} horas \".format(HorasJogo * -1))\n",
    "\n",
    "else: \n",
    "    print(\"O jogo durou {} horas \".format(HorasJogo))\n"
   ]
  },
  {
   "cell_type": "code",
   "execution_count": 95,
   "id": "089a8113",
   "metadata": {},
   "outputs": [
    {
     "name": "stdout",
     "output_type": "stream",
     "text": [
      "Digite quantas horas você trabalhou esse mês: \n",
      "57\n",
      "Digite qual o valor da hora trabalhada: \n",
      "10.60\n",
      "Seu salário é de: 604.20 reais\n"
     ]
    }
   ],
   "source": [
    "print(\"Digite quantas horas você trabalhou esse mês: \")\n",
    "horas = int(input())\n",
    "\n",
    "print(\"Digite qual o valor da hora trabalhada: \")\n",
    "valor = float(input())\n",
    "\n",
    "\n",
    "if(horas <= 160):\n",
    "        print(\"Seu salário é de: {:.2f} reais\".format(horas * valor))\n",
    "        \n",
    "else:\n",
    "        bonus = (horas - 160) * (valor * 1.5)\n",
    "        \n",
    "        print(\"Seu salário é de: {:.2f} reais\".format((160 * valor + bonus)))\n",
    "\n",
    "\n",
    "\n",
    "\n",
    "\n",
    "\n"
   ]
  },
  {
   "cell_type": "code",
   "execution_count": 98,
   "id": "fad9c005",
   "metadata": {
    "scrolled": true
   },
   "outputs": [
    {
     "name": "stdout",
     "output_type": "stream",
     "text": [
      "Digite o valor do seu salário: \n",
      "1000\n",
      "Digite o valor do seu salário: \n",
      "1600\n",
      "Seu salário total será de: 1050.00 reais\n"
     ]
    }
   ],
   "source": [
    "print(\"Digite o valor do seu salário: \")\n",
    "salario = float(input())\n",
    "\n",
    "print(\"Digite o valor do seu salário: \")\n",
    "vendas = float(input())\n",
    "\n",
    "if(vendas <= 1500):\n",
    "    SalarioTotal = salario + (vendas * 0.03)\n",
    "    print(\"Seu salário total será de: {:.2f} reais\".format(SalarioTotal))\n",
    "else:\n",
    "    SalarioTotal = salario + (1500 * 0.03) + ((vendas-1500)*0.05)\n",
    "    print(\"Seu salário total será de: {:.2f} reais\".format(SalarioTotal))\n",
    "    \n"
   ]
  },
  {
   "cell_type": "code",
   "execution_count": 100,
   "id": "d414cc0f",
   "metadata": {},
   "outputs": [
    {
     "name": "stdout",
     "output_type": "stream",
     "text": [
      "Digite o numero da sua conta: \n",
      "1021021124\n",
      "Digite o saldo da sua conta: \n",
      "1000\n",
      "Digite o debido da sua conta: \n",
      "500\n",
      "Digite o credito da sua conta: \n",
      "100\n",
      "Seu saldo atual é 600.0 reais\n",
      "Saldo positivo!!!\n"
     ]
    }
   ],
   "source": [
    "print(\"Digite o numero da sua conta: \")\n",
    "conta = str(input())\n",
    "print(\"Digite o saldo da sua conta: \")\n",
    "saldo = float(input())\n",
    "print(\"Digite o debido da sua conta: \")\n",
    "debito = float(input())\n",
    "print(\"Digite o credito da sua conta: \")\n",
    "credito = float(input())\n",
    "\n",
    "SaldoAtual = saldo - debito + credito\n",
    "print(\"Seu saldo atual é {} reais\".format(SaldoAtual))\n",
    "\n",
    "if(SaldoAtual >= 0):\n",
    "    print(\"Saldo positivo!!!\")\n",
    "else:\n",
    "    print(\"Saldo negativo!!!\")"
   ]
  },
  {
   "cell_type": "code",
   "execution_count": 102,
   "id": "8d2759e8",
   "metadata": {},
   "outputs": [
    {
     "name": "stdout",
     "output_type": "stream",
     "text": [
      "Digite a quantidade atual de parafusos no estoque: \n",
      "400\n",
      "Digite a quantidade Máxima de parafusos no estoque: \n",
      "600\n",
      "Digite a quantidade minima de parafusos no estoque:: \n",
      "300\n",
      "A quantidade media de parafusos no estoque é de:  450.0 parafusos\n",
      "Efetuar compra!!!\n"
     ]
    }
   ],
   "source": [
    "print(\"Digite a quantidade atual de parafusos no estoque: \")\n",
    "QuantidadeAtual = int(input())\n",
    "print(\"Digite a quantidade Máxima de parafusos no estoque: \")\n",
    "QuantidadeMaxima = int(input())\n",
    "print(\"Digite a quantidade minima de parafusos no estoque:: \")\n",
    "QuantidadeMinima = float(input())\n",
    "\n",
    "QuantidadeMedia = (QuantidadeMaxima + QuantidadeMinima)/2\n",
    "print(\"A quantidade media de parafusos no estoque é de:  {} parafusos\".format(QuantidadeMedia))\n",
    "\n",
    "if(QuantidadeAtual >= QuantidadeMedia):\n",
    "    print(\"Não efetuar compra!!!\")\n",
    "else:\n",
    "     print(\"Efetuar compra!!!\")"
   ]
  },
  {
   "cell_type": "code",
   "execution_count": 106,
   "id": "10f051c9",
   "metadata": {},
   "outputs": [
    {
     "name": "stdout",
     "output_type": "stream",
     "text": [
      "Escreva um valor: \n",
      "10\n",
      "Escreva um valor: \n",
      "1000\n",
      "Escreva um valor: \n",
      "200\n",
      "O maior valor é  1000\n"
     ]
    }
   ],
   "source": [
    "print(\"Escreva um valor: \")\n",
    "v1 = int(input())\n",
    "print(\"Escreva um valor: \")\n",
    "v2 = int(input())\n",
    "print(\"Escreva um valor: \")\n",
    "v3 = int(input())\n",
    "\n",
    "if(v1 > v2 and v1 > v3):\n",
    "    print(\"O maior valor é \",v1)\n",
    "elif(v2 > v1 and v2 > v3):\n",
    "     print(\"O maior valor é \",v2)\n",
    "else:\n",
    "     print(\"O maior valor é \",v3)"
   ]
  },
  {
   "cell_type": "code",
   "execution_count": 109,
   "id": "2a762ca8",
   "metadata": {},
   "outputs": [
    {
     "name": "stdout",
     "output_type": "stream",
     "text": [
      "Escreva um valor: \n",
      "60\n",
      "Escreva um valor: \n",
      "10\n",
      "Escreva um valor: \n",
      "5\n",
      "O menor valor é  5\n"
     ]
    }
   ],
   "source": [
    "print(\"Escreva um valor: \")\n",
    "v1 = int(input())\n",
    "print(\"Escreva um valor: \")\n",
    "v2 = int(input())\n",
    "print(\"Escreva um valor: \")\n",
    "v3 = int(input())\n",
    "\n",
    "if(v1 < v2 and v1 < v3):\n",
    "    print(\"O menor valor é \",v1)\n",
    "elif(v2 < v1 and v2 < v3):\n",
    "     print(\"O menor valor é \",v2)\n",
    "else:\n",
    "     print(\"O menor valor é \",v3)"
   ]
  },
  {
   "cell_type": "code",
   "execution_count": 115,
   "id": "e7263291",
   "metadata": {},
   "outputs": [
    {
     "name": "stdout",
     "output_type": "stream",
     "text": [
      "Escreva um valor: \n",
      "100\n",
      "Escreva um valor: \n",
      "200\n",
      "Escreva um valor: \n",
      "45\n",
      "A soma dos valores mais altos é 300\n"
     ]
    }
   ],
   "source": [
    "print(\"Escreva um valor: \")\n",
    "v1 = int(input())\n",
    "print(\"Escreva um valor: \")\n",
    "v2 = int(input())\n",
    "print(\"Escreva um valor: \")\n",
    "v3 = int(input())\n",
    "\n",
    "if(v1 > v2 and v1 < v3):\n",
    "    print(\"A soma dos valores mais altos é \",v1+v3)\n",
    "elif(v2 > v1 and v1 < v3):\n",
    "     print(\"A soma dos valores mais altos é \",v2 + v3)\n",
    "elif(v1 > v2 and v2 < v3):\n",
    "     print(\"A soma dos valores mais altos é \",v1 + v3)\n",
    "else:\n",
    "     print(\"A soma dos valores mais altos é\",v1+v2)"
   ]
  },
  {
   "cell_type": "code",
   "execution_count": null,
   "id": "56d3bafa",
   "metadata": {},
   "outputs": [],
   "source": []
  }
 ],
 "metadata": {
  "kernelspec": {
   "display_name": "Python 3 (ipykernel)",
   "language": "python",
   "name": "python3"
  },
  "language_info": {
   "codemirror_mode": {
    "name": "ipython",
    "version": 3
   },
   "file_extension": ".py",
   "mimetype": "text/x-python",
   "name": "python",
   "nbconvert_exporter": "python",
   "pygments_lexer": "ipython3",
   "version": "3.9.7"
  }
 },
 "nbformat": 4,
 "nbformat_minor": 5
}
