{
 "cells": [
  {
   "cell_type": "code",
   "execution_count": null,
   "id": "c020e3d7",
   "metadata": {},
   "outputs": [],
   "source": [
    "salario = 1350 \n",
    "vale = 409,64\n",
    "\n",
    "print(\"Seu salário é de: \", salario, \"\\n\", \"Seu vale refeição é de: \",vale)"
   ]
  },
  {
   "cell_type": "code",
   "execution_count": null,
   "id": "2d075b0e",
   "metadata": {},
   "outputs": [],
   "source": [
    "nome = \"danilo\"\n",
    "celular = 996392913\n",
    "cidade = \"Pinhais\"\n",
    "\n",
    "print(\"Nome = \", nome, \"\\n celular =\", celular, \"\\n\", \"cidade =\", cidade)"
   ]
  },
  {
   "cell_type": "code",
   "execution_count": null,
   "id": "33e34301",
   "metadata": {},
   "outputs": [],
   "source": [
    "idade = 21\n",
    "altura = 1.82\n",
    "peso = 86.5\n",
    "\n",
    "print(\"Sua idade é: \", idade,\"\\n\",\"Sua altura é: \", altura, \"\\n\", \"Seu peso é: \", peso)"
   ]
  },
  {
   "cell_type": "code",
   "execution_count": null,
   "id": "a06daeac",
   "metadata": {},
   "outputs": [],
   "source": [
    "print(\"Digite o seu nome: \")\n",
    "nome = str(input())\n",
    "print(\"Digite o seu celular: \")\n",
    "celular = str(input())\n",
    "print(\"Digite a sua cidade: \")\n",
    "cidade = str(input())\n",
    "\n",
    "print(nome, \"\\n\", celular, \"\\n\", cidade)\n"
   ]
  },
  {
   "cell_type": "code",
   "execution_count": null,
   "id": "676e67a1",
   "metadata": {},
   "outputs": [],
   "source": [
    "print(\"Digite a sua idade: \")\n",
    "idade = int(input())\n",
    "print(\"Digite a sua altura: \")\n",
    "altura = float(input())\n",
    "print(\"Digite o seu peso: \")\n",
    "peso = float(input())\n",
    "\n",
    "print(idade, \"\\n\", altura, \"\\n\", peso)"
   ]
  },
  {
   "cell_type": "code",
   "execution_count": null,
   "id": "064b5db1",
   "metadata": {},
   "outputs": [],
   "source": [
    "print(\"Digite o seu salario: \")\n",
    "salario = float(input())\n",
    "print(\"Digite o seu vale-refeição: \")\n",
    "vale = float(input())\n",
    "\n",
    "print(\"Seu salário é de: \", salario, \"\\n\", \"Seu vale refeição é de: \",vale)"
   ]
  },
  {
   "cell_type": "code",
   "execution_count": null,
   "id": "b5a6549c",
   "metadata": {},
   "outputs": [],
   "source": [
    "print(\"Digite o primeiro valor: \")\n",
    "valor1 = float(input())\n",
    "print(\"Digite o segundo valor: \")\n",
    "valor2 = float(input())\n",
    "\n",
    "soma = valor1 + valor2\n",
    "\n",
    "print(\"A soma dos numeros é: \",soma)"
   ]
  },
  {
   "cell_type": "code",
   "execution_count": null,
   "id": "4d566cf4",
   "metadata": {},
   "outputs": [],
   "source": [
    "print(\"Digite o primeiro valor: \")\n",
    "valor1 = float(input())\n",
    "print(\"Digite o segundo valor: \")\n",
    "valor2 = float(input())\n",
    "\n",
    "sub = valor1 - valor2\n",
    "\n",
    "print(\"A subtração dos numeros é: \",sub)"
   ]
  },
  {
   "cell_type": "code",
   "execution_count": null,
   "id": "0eecc6b0",
   "metadata": {},
   "outputs": [],
   "source": [
    "print(\"Digite o primeiro valor: \")\n",
    "valor1 = float(input())\n",
    "print(\"Digite o segundo valor: \")\n",
    "valor2 = float(input())\n",
    "\n",
    "mult = valor1 * valor2\n",
    "\n",
    "print(\"A multiplicação entre numeros é: \", mult)"
   ]
  },
  {
   "cell_type": "code",
   "execution_count": null,
   "id": "846ac6d6",
   "metadata": {},
   "outputs": [],
   "source": [
    "print(\"Digite o primeiro valor: \")\n",
    "valor1 = float(input())\n",
    "print(\"Digite o segundo valor: \")\n",
    "valor2 = float(input())\n",
    "\n",
    "div = valor1 / valor2\n",
    "\n",
    "print(\"A divisão entre numeros é: \",div)"
   ]
  },
  {
   "cell_type": "code",
   "execution_count": null,
   "id": "39e5504c",
   "metadata": {},
   "outputs": [],
   "source": [
    "valor1 = 1\n",
    "valor2 = 2\n",
    "valor3 = 3\n",
    "\n",
    "exp1 = 1 * 1\n",
    "exp2 = 2 * 2 \n",
    "exp3 = 3 * 3\n",
    "\n",
    "print(\"O exponencial dos valores\", valor1,\",\",valor2,\"e\",valor3, \" são: {}, {} e {}\".format(exp1,exp2,exp3))"
   ]
  },
  {
   "cell_type": "code",
   "execution_count": 31,
   "id": "c94765d4",
   "metadata": {},
   "outputs": [
    {
     "name": "stdout",
     "output_type": "stream",
     "text": [
      "0 \n",
      "\n",
      "1 \n",
      "\n",
      "4 \n",
      "\n",
      "9 \n",
      "\n",
      "16 \n",
      "\n",
      "25 \n",
      "\n",
      "36 \n",
      "\n",
      "49 \n",
      "\n",
      "64 \n",
      "\n",
      "81 \n",
      "\n",
      "100 \n",
      "\n"
     ]
    }
   ],
   "source": [
    "i = 0\n",
    "ii = 0\n",
    "\n",
    "while i <= 10:\n",
    "    exp = ii * ii\n",
    "    print(exp,\"\\n\")\n",
    "    ii = ii+1\n",
    "    i = i+1"
   ]
  },
  {
   "cell_type": "code",
   "execution_count": 36,
   "id": "7e1976b7",
   "metadata": {},
   "outputs": [
    {
     "name": "stdout",
     "output_type": "stream",
     "text": [
      "Digite um valor: \n",
      "4\n",
      "Digite o segundo valor: \n",
      "3\n",
      "O módulo entre os valores é:  5.0\n"
     ]
    }
   ],
   "source": [
    "import math \n",
    "print(\"Digite um valor: \")\n",
    "valor1 = int(input())\n",
    "print(\"Digite o segundo valor: \")\n",
    "valor2 = int(input())\n",
    "\n",
    "mod = math.sqrt((valor1 * valor1) + (valor2 * valor2))\n",
    "print(\"O módulo entre os valores é: \",mod)"
   ]
  },
  {
   "cell_type": "code",
   "execution_count": 40,
   "id": "1f64991e",
   "metadata": {},
   "outputs": [
    {
     "name": "stdout",
     "output_type": "stream",
     "text": [
      "Digite um valor: \n",
      "21371831\n",
      "O antecessor de  21371831  é:  21371830\n"
     ]
    }
   ],
   "source": [
    "print(\"Digite um valor: \")\n",
    "valor = int(input())\n",
    "\n",
    "print(\"O antecessor de \",valor,\" é: \", valor -1 )"
   ]
  },
  {
   "cell_type": "code",
   "execution_count": 41,
   "id": "98190028",
   "metadata": {},
   "outputs": [
    {
     "name": "stdout",
     "output_type": "stream",
     "text": [
      "Digite a a base do retangulo: em cm\n",
      "3\n",
      "Digite a a altura do retangulo: em cm \n",
      "4\n",
      "A área do retângulo é:  12.0 cm\n"
     ]
    }
   ],
   "source": [
    "print(\"Digite a a base do retangulo: em cm\")\n",
    "b = float(input())\n",
    "print(\"Digite a a altura do retangulo: em cm \")\n",
    "h = float(input())\n",
    "\n",
    "print(\"A área do retângulo é: \" ,b * h, \"cm\")"
   ]
  },
  {
   "cell_type": "code",
   "execution_count": 86,
   "id": "e7b6d5d5",
   "metadata": {},
   "outputs": [
    {
     "ename": "TypeError",
     "evalue": "'float' object is not callable",
     "output_type": "error",
     "traceback": [
      "\u001b[1;31m---------------------------------------------------------------------------\u001b[0m",
      "\u001b[1;31mTypeError\u001b[0m                                 Traceback (most recent call last)",
      "\u001b[1;32mC:\\Users\\DABRAN~1\\AppData\\Local\\Temp/ipykernel_19232/3925712345.py\u001b[0m in \u001b[0;36m<module>\u001b[1;34m\u001b[0m\n\u001b[1;32m----> 1\u001b[1;33m \u001b[0mprint\u001b[0m\u001b[1;33m(\u001b[0m\u001b[1;34m\"Digite quantos anos você tem: \"\u001b[0m\u001b[1;33m)\u001b[0m\u001b[1;33m\u001b[0m\u001b[1;33m\u001b[0m\u001b[0m\n\u001b[0m\u001b[0;32m      2\u001b[0m \u001b[0manos\u001b[0m \u001b[1;33m=\u001b[0m \u001b[0mint\u001b[0m\u001b[1;33m(\u001b[0m\u001b[0minput\u001b[0m\u001b[1;33m(\u001b[0m\u001b[1;33m)\u001b[0m\u001b[1;33m)\u001b[0m\u001b[1;33m\u001b[0m\u001b[1;33m\u001b[0m\u001b[0m\n\u001b[0;32m      3\u001b[0m \u001b[0mprint\u001b[0m\u001b[1;33m(\u001b[0m\u001b[1;34m\"Digite quantos meses se passaram desde o seu aniversário: \"\u001b[0m\u001b[1;33m)\u001b[0m\u001b[1;33m\u001b[0m\u001b[1;33m\u001b[0m\u001b[0m\n\u001b[0;32m      4\u001b[0m \u001b[0mmeses\u001b[0m \u001b[1;33m=\u001b[0m \u001b[0mint\u001b[0m\u001b[1;33m(\u001b[0m\u001b[0minput\u001b[0m\u001b[1;33m(\u001b[0m\u001b[1;33m)\u001b[0m\u001b[1;33m)\u001b[0m\u001b[1;33m\u001b[0m\u001b[1;33m\u001b[0m\u001b[0m\n\u001b[0;32m      5\u001b[0m \u001b[0mprint\u001b[0m\u001b[1;33m(\u001b[0m\u001b[1;34m\"Digite quantos dias se passaram desde o inicio do mês: \"\u001b[0m\u001b[1;33m)\u001b[0m\u001b[1;33m\u001b[0m\u001b[1;33m\u001b[0m\u001b[0m\n",
      "\u001b[1;31mTypeError\u001b[0m: 'float' object is not callable"
     ]
    }
   ],
   "source": [
    "print(\"Digite quantos anos você tem: \")\n",
    "anos = int(input())\n",
    "print(\"Digite quantos meses se passaram desde o seu aniversário: \")\n",
    "meses = int(input())\n",
    "print(\"Digite quantos dias se passaram desde o inicio do mês: \")\n",
    "dias = int(input())\n",
    "\n",
    "idadedias = (anos*365) + (meses * 30) + dias \n",
    "print(idadedias)"
   ]
  },
  {
   "cell_type": "code",
   "execution_count": 85,
   "id": "b25d9fed",
   "metadata": {},
   "outputs": [
    {
     "ename": "TypeError",
     "evalue": "'float' object is not callable",
     "output_type": "error",
     "traceback": [
      "\u001b[1;31m---------------------------------------------------------------------------\u001b[0m",
      "\u001b[1;31mTypeError\u001b[0m                                 Traceback (most recent call last)",
      "\u001b[1;32mC:\\Users\\DABRAN~1\\AppData\\Local\\Temp/ipykernel_19232/2709549970.py\u001b[0m in \u001b[0;36m<module>\u001b[1;34m\u001b[0m\n\u001b[1;32m----> 1\u001b[1;33m \u001b[0mprint\u001b[0m\u001b[1;33m(\u001b[0m\u001b[1;34m\"Digite o numero total de eleitores: \"\u001b[0m\u001b[1;33m)\u001b[0m\u001b[1;33m\u001b[0m\u001b[1;33m\u001b[0m\u001b[0m\n\u001b[0m\u001b[0;32m      2\u001b[0m \u001b[0meleitores\u001b[0m \u001b[1;33m=\u001b[0m \u001b[0mint\u001b[0m\u001b[1;33m(\u001b[0m\u001b[0minput\u001b[0m\u001b[1;33m(\u001b[0m\u001b[1;33m)\u001b[0m\u001b[1;33m)\u001b[0m\u001b[1;33m\u001b[0m\u001b[1;33m\u001b[0m\u001b[0m\n\u001b[0;32m      3\u001b[0m \u001b[0mprint\u001b[0m\u001b[1;33m(\u001b[0m\u001b[1;34m\"Digite o numero de votos em branco: \"\u001b[0m\u001b[1;33m)\u001b[0m\u001b[1;33m\u001b[0m\u001b[1;33m\u001b[0m\u001b[0m\n\u001b[0;32m      4\u001b[0m \u001b[0mbranco\u001b[0m \u001b[1;33m=\u001b[0m \u001b[0mint\u001b[0m\u001b[1;33m(\u001b[0m\u001b[0minput\u001b[0m\u001b[1;33m(\u001b[0m\u001b[1;33m)\u001b[0m\u001b[1;33m)\u001b[0m\u001b[1;33m\u001b[0m\u001b[1;33m\u001b[0m\u001b[0m\n\u001b[0;32m      5\u001b[0m \u001b[0mprint\u001b[0m\u001b[1;33m(\u001b[0m\u001b[1;34m\"Digite o numero de votos nulos: \"\u001b[0m\u001b[1;33m)\u001b[0m\u001b[1;33m\u001b[0m\u001b[1;33m\u001b[0m\u001b[0m\n",
      "\u001b[1;31mTypeError\u001b[0m: 'float' object is not callable"
     ]
    }
   ],
   "source": [
    "print(\"Digite o numero total de eleitores: \")\n",
    "eleitores = int(input())\n",
    "print(\"Digite o numero de votos em branco: \")\n",
    "branco = int(input())\n",
    "print(\"Digite o numero de votos nulos: \")\n",
    "nulos = int(input())\n",
    "print(\"Digite o numero de votos validos: \")\n",
    "validos = int(input())\n",
    "conferindo  = eleitores - (branco + nulos + validos)\n",
    "    \n",
    "\n",
    "    \n",
    "if(conferindo == 0):\n",
    "    PorcentagemBranco = (branco * 100)/eleitores\n",
    "    PorcentagemNulo = (nulos * 100)/eleitores\n",
    "    PorcentagemValidos = (validos * 100)/eleitores\n",
    "\n",
    "    print(\"A por centagem de votos em branco é de: \", PorcentagemBranco, \"%\")\n",
    "\n",
    "    print(\"A por centagem de votos nulos é de: \", PorcentagemNulo, \"%\")\n",
    "\n",
    "    print(\"A por centagem de votos validos é de: \", PorcentagemValidos, \"%\")\n",
    "    \n",
    "else:\n",
    "    print(\"Os valores não fecham!!!\")\n",
    "\n"
   ]
  },
  {
   "cell_type": "code",
   "execution_count": 83,
   "id": "c8bcd651",
   "metadata": {
    "scrolled": true
   },
   "outputs": [
    {
     "ename": "TypeError",
     "evalue": "'float' object is not callable",
     "output_type": "error",
     "traceback": [
      "\u001b[1;31m---------------------------------------------------------------------------\u001b[0m",
      "\u001b[1;31mTypeError\u001b[0m                                 Traceback (most recent call last)",
      "\u001b[1;32mC:\\Users\\DABRAN~1\\AppData\\Local\\Temp/ipykernel_19232/776975998.py\u001b[0m in \u001b[0;36m<module>\u001b[1;34m\u001b[0m\n\u001b[1;32m----> 1\u001b[1;33m \u001b[0mprint\u001b[0m\u001b[1;33m(\u001b[0m\u001b[1;34m\"hello\"\u001b[0m\u001b[1;33m)\u001b[0m\u001b[1;33m\u001b[0m\u001b[1;33m\u001b[0m\u001b[0m\n\u001b[0m",
      "\u001b[1;31mTypeError\u001b[0m: 'float' object is not callable"
     ]
    }
   ],
   "source": [
    "print(\"hello\")"
   ]
  },
  {
   "cell_type": "code",
   "execution_count": 84,
   "id": "567a66ab",
   "metadata": {},
   "outputs": [
    {
     "ename": "TypeError",
     "evalue": "'float' object is not callable",
     "output_type": "error",
     "traceback": [
      "\u001b[1;31m---------------------------------------------------------------------------\u001b[0m",
      "\u001b[1;31mTypeError\u001b[0m                                 Traceback (most recent call last)",
      "\u001b[1;32mC:\\Users\\DABRAN~1\\AppData\\Local\\Temp/ipykernel_19232/776975998.py\u001b[0m in \u001b[0;36m<module>\u001b[1;34m\u001b[0m\n\u001b[1;32m----> 1\u001b[1;33m \u001b[0mprint\u001b[0m\u001b[1;33m(\u001b[0m\u001b[1;34m\"hello\"\u001b[0m\u001b[1;33m)\u001b[0m\u001b[1;33m\u001b[0m\u001b[1;33m\u001b[0m\u001b[0m\n\u001b[0m",
      "\u001b[1;31mTypeError\u001b[0m: 'float' object is not callable"
     ]
    }
   ],
   "source": [
    "print(\"hello\")"
   ]
  },
  {
   "cell_type": "code",
   "execution_count": null,
   "id": "70c730eb",
   "metadata": {},
   "outputs": [],
   "source": []
  }
 ],
 "metadata": {
  "kernelspec": {
   "display_name": "Python 3 (ipykernel)",
   "language": "python",
   "name": "python3"
  },
  "language_info": {
   "codemirror_mode": {
    "name": "ipython",
    "version": 3
   },
   "file_extension": ".py",
   "mimetype": "text/x-python",
   "name": "python",
   "nbconvert_exporter": "python",
   "pygments_lexer": "ipython3",
   "version": "3.9.7"
  }
 },
 "nbformat": 4,
 "nbformat_minor": 5
}
