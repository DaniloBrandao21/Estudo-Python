{
 "cells": [
  {
   "cell_type": "code",
   "execution_count": 29,
   "id": "13b47d58",
   "metadata": {},
   "outputs": [
    {
     "name": "stdout",
     "output_type": "stream",
     "text": [
      "Digite a sua idade\n",
      "21\n",
      "Digite a sua altura em cm\n",
      "182\n",
      "Digite o seu peso em kg\n",
      "86\n"
     ]
    }
   ],
   "source": [
    "    nome = \"Danilo\"\n",
    "    celular = 41996392913\n",
    "    cidade = 'Curitiba'\n",
    "    print('Digite a sua idade')\n",
    "    idade = input()\n",
    "    print('Digite a sua altura em cm')\n",
    "    altura = input()\n",
    "    print('Digite o seu peso em kg')\n",
    "    peso = input()\n",
    "    materia = 'Física'\n",
    "    frase = 'Física é demais!!!'"
   ]
  },
  {
   "cell_type": "code",
   "execution_count": 30,
   "id": "4a4c15de",
   "metadata": {},
   "outputs": [
    {
     "name": "stdout",
     "output_type": "stream",
     "text": [
      "Meu nome é Danilo  \n",
      "meu numero é 41996392913 E eu moro em Curitiba\n"
     ]
    }
   ],
   "source": [
    "   print(\"Meu nome é\",nome,\" \\nmeu numero é\",celular, \"E eu moro em\",cidade)\n",
    "    "
   ]
  },
  {
   "cell_type": "code",
   "execution_count": 31,
   "id": "87a4b06b",
   "metadata": {},
   "outputs": [
    {
     "name": "stdout",
     "output_type": "stream",
     "text": [
      "Sua idade é  21 anos \n",
      "Sua altura é 182 metros \n",
      "Seu peso é  86 kilos\n"
     ]
    }
   ],
   "source": [
    "print('Sua idade é ',idade,'anos \\nSua altura é',altura, 'metros \\nSeu peso é ', peso, 'kilos')"
   ]
  },
  {
   "cell_type": "code",
   "execution_count": 32,
   "id": "ec7d9076",
   "metadata": {},
   "outputs": [
    {
     "name": "stdout",
     "output_type": "stream",
     "text": [
      "Minha matéria favorita é Física\n",
      "Física é demais!!!\n"
     ]
    }
   ],
   "source": [
    "print ('Minha matéria favorita é {}\\n{}'.format(materia,frase))"
   ]
  },
  {
   "cell_type": "code",
   "execution_count": null,
   "id": "86bad371",
   "metadata": {},
   "outputs": [],
   "source": []
  }
 ],
 "metadata": {
  "kernelspec": {
   "display_name": "Python 3 (ipykernel)",
   "language": "python",
   "name": "python3"
  },
  "language_info": {
   "codemirror_mode": {
    "name": "ipython",
    "version": 3
   },
   "file_extension": ".py",
   "mimetype": "text/x-python",
   "name": "python",
   "nbconvert_exporter": "python",
   "pygments_lexer": "ipython3",
   "version": "3.9.7"
  }
 },
 "nbformat": 4,
 "nbformat_minor": 5
}
