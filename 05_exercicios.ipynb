{
 "cells": [
  {
   "cell_type": "code",
   "execution_count": 10,
   "id": "6a09c335",
   "metadata": {},
   "outputs": [
    {
     "name": "stdout",
     "output_type": "stream",
     "text": [
      "Digite um valor\n",
      "4\n",
      "Digite um valor\n",
      "6\n",
      "Digite um valor\n",
      "10\n",
      "Digite um valor\n",
      "20\n"
     ]
    }
   ],
   "source": [
    "total = 0 \n",
    "i = 1\n",
    "\n",
    "while(i <= 4):\n",
    "    print('Digite um valor')\n",
    "    n = float(input())\n",
    "    total = total + n\n",
    "    i = i + 1"
   ]
  },
  {
   "cell_type": "code",
   "execution_count": 11,
   "id": "a67f5759",
   "metadata": {},
   "outputs": [
    {
     "name": "stdout",
     "output_type": "stream",
     "text": [
      "A soma dos numeros é:  40.0\n"
     ]
    }
   ],
   "source": [
    "print('A soma dos numeros é: ', total)"
   ]
  },
  {
   "cell_type": "code",
   "execution_count": 13,
   "id": "2c453544",
   "metadata": {},
   "outputs": [
    {
     "name": "stdout",
     "output_type": "stream",
     "text": [
      "Digite um numero: \n",
      "2\n",
      "Digite um numero: \n",
      "3\n",
      "Digite um numero: \n",
      "4\n",
      "A multiplicaçao dos numeros é: 24.0\n"
     ]
    }
   ],
   "source": [
    "mult = 1\n",
    "i = 1\n",
    "\n",
    "while (i <= 3):\n",
    "    print('Digite um numero: ')\n",
    "    n = float(input())\n",
    "    mult = mult * n\n",
    "    i = i  + 1 \n",
    "    \n",
    "    \n",
    "print('A multiplicaçao dos numeros é:', mult)"
   ]
  },
  {
   "cell_type": "code",
   "execution_count": 25,
   "id": "02cf48d9",
   "metadata": {},
   "outputs": [
    {
     "name": "stdout",
     "output_type": "stream",
     "text": [
      "14\n",
      "-8\n",
      "0.09999999999999999\n",
      "90\n"
     ]
    }
   ],
   "source": [
    "a = 3\n",
    "b = 5 \n",
    "c = 6\n",
    "\n",
    "soma = (a+b+c)\n",
    "sub = (a - b - c)\n",
    "div = (a / b / c)\n",
    "mult = (a * b * c)\n",
    "print(soma)\n",
    "print(sub)\n",
    "print(div)\n",
    "print(mult)\n"
   ]
  },
  {
   "cell_type": "code",
   "execution_count": null,
   "id": "0967715d",
   "metadata": {},
   "outputs": [],
   "source": []
  }
 ],
 "metadata": {
  "kernelspec": {
   "display_name": "Python 3 (ipykernel)",
   "language": "python",
   "name": "python3"
  },
  "language_info": {
   "codemirror_mode": {
    "name": "ipython",
    "version": 3
   },
   "file_extension": ".py",
   "mimetype": "text/x-python",
   "name": "python",
   "nbconvert_exporter": "python",
   "pygments_lexer": "ipython3",
   "version": "3.9.7"
  }
 },
 "nbformat": 4,
 "nbformat_minor": 5
}
