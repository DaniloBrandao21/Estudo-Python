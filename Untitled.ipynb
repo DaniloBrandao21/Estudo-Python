{
 "cells": [
  {
   "cell_type": "code",
   "execution_count": 14,
   "id": "47a666c0",
   "metadata": {},
   "outputs": [
    {
     "name": "stdout",
     "output_type": "stream",
     "text": [
      "Cadastre o seu email \n",
      "danilo@gmail.com\n",
      "Cadastre A sua senha \n",
      "aaddfm\n"
     ]
    }
   ],
   "source": [
    "print(\"Cadastre o seu email \")\n",
    "email = str(input())\n",
    "print(\"Cadastre A sua senha \")\n",
    "senha = str(input())"
   ]
  },
  {
   "cell_type": "code",
   "execution_count": 15,
   "id": "95bfd84a",
   "metadata": {},
   "outputs": [
    {
     "name": "stdout",
     "output_type": "stream",
     "text": [
      "LOGIN \n",
      " \n",
      " \n",
      "\n",
      "Digite o seu email \n",
      "danilo@gmail.com\n",
      "Digite a sua senha \n",
      "das\n",
      "Login ou senha incorretos\n"
     ]
    }
   ],
   "source": [
    "print(\"LOGIN \\n \\n \\n\")\n",
    "print(\"Digite o seu email \")\n",
    "emailver = str(input())\n",
    "print(\"Digite a sua senha \")\n",
    "senhaver = str(input())\n",
    "\n",
    "if (email == emailver and senha == senhaver):\n",
    "    print(\"Login efetuado com sucesso\")\n",
    "else:\n",
    "    print(\"email ou senha incorretos\")"
   ]
  },
  {
   "cell_type": "code",
   "execution_count": null,
   "id": "cdf9d42e",
   "metadata": {},
   "outputs": [],
   "source": []
  }
 ],
 "metadata": {
  "kernelspec": {
   "display_name": "Python 3 (ipykernel)",
   "language": "python",
   "name": "python3"
  },
  "language_info": {
   "codemirror_mode": {
    "name": "ipython",
    "version": 3
   },
   "file_extension": ".py",
   "mimetype": "text/x-python",
   "name": "python",
   "nbconvert_exporter": "python",
   "pygments_lexer": "ipython3",
   "version": "3.9.7"
  }
 },
 "nbformat": 4,
 "nbformat_minor": 5
}
