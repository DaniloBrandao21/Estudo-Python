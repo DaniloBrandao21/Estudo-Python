{
 "cells": [
  {
   "cell_type": "code",
   "execution_count": 4,
   "id": "90d1836c",
   "metadata": {},
   "outputs": [
    {
     "name": "stdout",
     "output_type": "stream",
     "text": [
      "Digite a base do retangulo em cm\n",
      "5\n",
      "Digite a altura do retangulo em cm\n",
      "10\n",
      "a área do triangulo é 50.0 cm\n"
     ]
    }
   ],
   "source": [
    "print('Digite a base do retangulo em cm')\n",
    "b = float(input())\n",
    "print('Digite a altura do retangulo em cm')\n",
    "h = float(input())\n",
    "print('a área do triangulo é', b*h, \"cm\" )"
   ]
  },
  {
   "cell_type": "code",
   "execution_count": 9,
   "id": "aff0873c",
   "metadata": {
    "scrolled": true
   },
   "outputs": [
    {
     "name": "stdout",
     "output_type": "stream",
     "text": [
      "Ferraria BRANDAO\n",
      "Preço das ferraduras -> 9,90\n",
      "Quantos cavalos precisa de ferradura ?\n",
      "40\n",
      "O valor total das ferraduras para 40 é 1584.0 reais\n"
     ]
    }
   ],
   "source": [
    "xx"
   ]
  },
  {
   "cell_type": "code",
   "execution_count": null,
   "id": "da2e2b62",
   "metadata": {},
   "outputs": [],
   "source": []
  },
  {
   "cell_type": "code",
   "execution_count": null,
   "id": "ac84d35d",
   "metadata": {},
   "outputs": [],
   "source": []
  }
 ],
 "metadata": {
  "kernelspec": {
   "display_name": "Python 3 (ipykernel)",
   "language": "python",
   "name": "python3"
  },
  "language_info": {
   "codemirror_mode": {
    "name": "ipython",
    "version": 3
   },
   "file_extension": ".py",
   "mimetype": "text/x-python",
   "name": "python",
   "nbconvert_exporter": "python",
   "pygments_lexer": "ipython3",
   "version": "3.9.7"
  }
 },
 "nbformat": 4,
 "nbformat_minor": 5
}
