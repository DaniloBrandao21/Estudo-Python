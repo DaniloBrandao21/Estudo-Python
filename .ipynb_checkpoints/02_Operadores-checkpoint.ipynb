{
 "cells": [
  {
   "cell_type": "code",
   "execution_count": 6,
   "id": "aeec7ce0",
   "metadata": {},
   "outputs": [],
   "source": [
    "a = 10 \n",
    "b = 15 \n",
    "soma = a + b\n",
    "sub = a - b\n",
    "mult = a * b\n",
    "div = a / b\n",
    "sobra = a % b"
   ]
  },
  {
   "cell_type": "code",
   "execution_count": 7,
   "id": "baf2f346",
   "metadata": {},
   "outputs": [
    {
     "name": "stdout",
     "output_type": "stream",
     "text": [
      "A soma dos numeros é 25\n",
      "A subtraçao dos numeros é -5\n",
      "A multiplicação dos numeros é 150\n",
      "A divisao dos numeros é 0.6666666666666666\n",
      "A sobra dos numeros é 10\n"
     ]
    }
   ],
   "source": [
    "print('A soma dos numeros é {}'.format(soma))\n",
    "print('A subtraçao dos numeros é {}'.format(sub))\n",
    "print('A multiplicação dos numeros é {}'.format(mult))\n",
    "print('A divisao dos numeros é {}'.format(div))\n",
    "print('A sobra dos numeros é {}'.format(sobra))\n"
   ]
  },
  {
   "cell_type": "code",
   "execution_count": null,
   "id": "8d385cc1",
   "metadata": {},
   "outputs": [],
   "source": []
  }
 ],
 "metadata": {
  "kernelspec": {
   "display_name": "Python 3 (ipykernel)",
   "language": "python",
   "name": "python3"
  },
  "language_info": {
   "codemirror_mode": {
    "name": "ipython",
    "version": 3
   },
   "file_extension": ".py",
   "mimetype": "text/x-python",
   "name": "python",
   "nbconvert_exporter": "python",
   "pygments_lexer": "ipython3",
   "version": "3.9.7"
  }
 },
 "nbformat": 4,
 "nbformat_minor": 5
}
